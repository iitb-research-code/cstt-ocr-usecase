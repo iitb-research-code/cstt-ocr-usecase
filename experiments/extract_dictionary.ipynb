{
 "cells": [
  {
   "attachments": {},
   "cell_type": "markdown",
   "metadata": {},
   "source": [
    "INSTALLING ALL THE DEPENDENCIES"
   ]
  },
  {
   "cell_type": "code",
   "execution_count": null,
   "metadata": {},
   "outputs": [],
   "source": [
    "!sudo apt-get install tesseract-ocr-[hin]\n",
    "!pip install pytesseract\n",
    "!pip install pdf2image\n",
    "!apt-get install poppler-utils\n",
    "! apt install tesseract-ocr\n",
    "! apt install libtesseract-dev"
   ]
  },
  {
   "attachments": {},
   "cell_type": "markdown",
   "metadata": {},
   "source": [
    "IMPORTING ALL THE DEPENDENCIES"
   ]
  },
  {
   "cell_type": "code",
   "execution_count": null,
   "metadata": {},
   "outputs": [],
   "source": [
    "import cv2\n",
    "from google.colab.patches import cv2_imshow\n",
    "import pytesseract\n",
    "import tqdm\n",
    "import pandas as pd\n",
    "import string\n",
    "import os\n",
    "pytesseract.pytesseract.tesseract_cmd = r'/usr/bin/tesseract'"
   ]
  },
  {
   "attachments": {},
   "cell_type": "markdown",
   "metadata": {},
   "source": [
    "CODE TO GET IMAGES OF THE PAGES FROM THE PDFs"
   ]
  },
  {
   "cell_type": "code",
   "execution_count": null,
   "metadata": {},
   "outputs": [],
   "source": [
    "from pdf2image import convert_from_path\n",
    "\n",
    "images = convert_from_path(r'/content/drive/MyDrive/Layout_Analysis_Data/Tesseract_dict/pdfs/Bhandaran Shabdawali - 08-06-23 New.pdf')\n",
    "\n",
    "for i in tqdm.tqdm(range(len(images))):\n",
    "\timages[i].save('/content/drive/MyDrive/Layout_Analysis_Data/Tesseract_dict/pages3/bhandaran_page'+ str(i) +'.jpg', 'JPEG')\n"
   ]
  },
  {
   "attachments": {},
   "cell_type": "markdown",
   "metadata": {},
   "source": [
    "EXTRACT THE LIST OF ENGLISH WORD, HINDI MEANING AND HINDI DESCRIPTION FOR A PAGE"
   ]
  },
  {
   "cell_type": "code",
   "execution_count": null,
   "metadata": {},
   "outputs": [],
   "source": [
    "def extract(img_path):\n",
    "  img=cv2.imread(img_path)\n",
    "  # getting the tesseract result for the page\n",
    "  words=pytesseract.image_to_string(img,lang='hin+eng',config='--psm 6')\n",
    "  word=words.split('\\n')\n",
    "  eng=''\n",
    "  hin=''\n",
    "  des=''\n",
    "  data=[]\n",
    "  for i in word:\n",
    "    if len(i)>4 and i[0] not in string.punctuation and not i[0].isdigit():\n",
    "      if ord(i[0])<150 and len(i.strip().split(' ')[0])>0:\n",
    "        if len(hin)>1:\n",
    "          # print([eng,hin,des])\n",
    "          data.append([eng,hin,des])\n",
    "        eng=''\n",
    "        hin=''\n",
    "        des=''\n",
    "        i=i.strip().split()\n",
    "        for j in i:\n",
    "          if j in '-|:;.=':\n",
    "            continue\n",
    "          elif ord(j[0])<150:\n",
    "            eng+=j+' '\n",
    "          else:\n",
    "            hin+=j+' '\n",
    "      else:\n",
    "        des+=i\n",
    "  # print([eng,hin,des])\n",
    "  if len(hin)>1:\n",
    "    data.append([eng,hin,des])\n",
    "  return data"
   ]
  },
  {
   "attachments": {},
   "cell_type": "markdown",
   "metadata": {},
   "source": [
    "DRIVER CODE WHERE YOU CAN PASS THE PDF AND GET A LIST OF ALL ENGLISH WORD, HINDI MEANING AND HINDI DESCRIPTION FOR THE PDF"
   ]
  },
  {
   "cell_type": "code",
   "execution_count": null,
   "metadata": {},
   "outputs": [],
   "source": [
    "result=[]\n",
    "path='/content/drive/MyDrive/Layout_Analysis_Data/Tesseract_dict/pages3'\n",
    "for img in tqdm.tqdm(os.listdir(path)):\n",
    "  try:\n",
    "    result.extend(extract(path+'/'+img))\n",
    "  except:\n",
    "    pass\n",
    "for i in result:\n",
    "  print(i)"
   ]
  },
  {
   "attachments": {},
   "cell_type": "markdown",
   "metadata": {},
   "source": [
    "CODE TO GET THE CSV FILE FOR THE EXTRACTED OUTPUT"
   ]
  },
  {
   "cell_type": "code",
   "execution_count": null,
   "metadata": {},
   "outputs": [],
   "source": [
    "import csv\n",
    "fields=['English Word','Hindi Meaning','Hindi Description']\n",
    "with open('pdf2.csv','w') as f:\n",
    "  write=csv.writer(f)\n",
    "  write.writerow(fields)\n",
    "  write.writerows(result)"
   ]
  }
 ],
 "metadata": {
  "language_info": {
   "name": "python"
  },
  "orig_nbformat": 4
 },
 "nbformat": 4,
 "nbformat_minor": 2
}
